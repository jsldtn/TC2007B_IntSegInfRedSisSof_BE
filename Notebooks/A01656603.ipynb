{
 "cells": [
  {
   "cell_type": "markdown",
   "id": "078bceed-2d4d-4708-a513-fbc52e76cbdd",
   "metadata": {},
   "source": [
    "<img src=\"https://maestriasydiplomadostec.blob.core.windows.net/maestriasydiplomados/uploads/escuela_posgrado/logo/6/ingenieria.jpg\" alt=\"HTML5\" style=\"width:500px;height:100px\">\n",
    "\n",
    "# Román Mauricio Elias Valencia\n"
   ]
  },
  {
   "cell_type": "markdown",
   "id": "85e152de-4ca0-451a-acea-be46af62a8eb",
   "metadata": {},
   "source": [
    "### Clase #3\n",
    "---"
   ]
  },
  {
   "cell_type": "code",
   "execution_count": 5,
   "id": "8f8382ed-3b4f-4fb8-9d36-451e2b2221e8",
   "metadata": {},
   "outputs": [
    {
     "name": "stdout",
     "output_type": "stream",
     "text": [
      "Hello world\n",
      "This is Jupyter Notebook\n"
     ]
    }
   ],
   "source": [
    "print(\"Hello world\")\n",
    "print(\"This is Jupyter Notebook\")"
   ]
  },
  {
   "cell_type": "markdown",
   "id": "3c5ad6bd-b403-436b-bcc9-c09f2bac69ae",
   "metadata": {},
   "source": [
    "### Clase #8\n",
    "---"
   ]
  },
  {
   "cell_type": "code",
   "execution_count": 2,
   "id": "7e5243f3-8870-46fc-9c51-711d4d527bc8",
   "metadata": {},
   "outputs": [
    {
     "data": {
      "text/plain": [
       "{'count': 1,\n",
       " 'next': None,\n",
       " 'previous': None,\n",
       " 'results': [{'url': 'http://127.0.0.1:8000/users/1/',\n",
       "   'username': 'A01656603',\n",
       "   'email': 'A01656603@tec.mx',\n",
       "   'groups': []}]}"
      ]
     },
     "execution_count": 2,
     "metadata": {},
     "output_type": "execute_result"
    }
   ],
   "source": [
    "import sys\n",
    "import requests\n",
    "api_url = \"http://127.0.0.1:8000/users/\"\n",
    "response = requests.get(api_url, auth=('A01656603','password'))\n",
    "response.json()"
   ]
  }
 ],
 "metadata": {
  "kernelspec": {
   "display_name": "Python 3 (ipykernel)",
   "language": "python",
   "name": "python3"
  },
  "language_info": {
   "codemirror_mode": {
    "name": "ipython",
    "version": 3
   },
   "file_extension": ".py",
   "mimetype": "text/x-python",
   "name": "python",
   "nbconvert_exporter": "python",
   "pygments_lexer": "ipython3",
   "version": "3.11.3"
  }
 },
 "nbformat": 4,
 "nbformat_minor": 5
}
