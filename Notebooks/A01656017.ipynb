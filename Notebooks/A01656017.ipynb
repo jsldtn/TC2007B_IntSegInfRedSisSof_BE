{
 "cells": [
  {
   "cell_type": "markdown",
   "id": "fe282c13-2473-4c3d-9628-8fc79cf5f1d0",
   "metadata": {},
   "source": [
    "# Alejandro Pozos Aguirre"
   ]
  },
  {
   "cell_type": "code",
   "execution_count": null,
   "id": "66bef49b-d980-46ee-bc4c-b53dcb2c25b9",
   "metadata": {},
   "outputs": [],
   "source": [
    "print(\"Hola, Mundo\");"
   ]
  },
  {
   "cell_type": "markdown",
   "id": "d9c4b0e2-6db7-43e7-bd39-d67a9906cc3a",
   "metadata": {},
   "source": [
    "Suma de 5 números"
   ]
  },
  {
   "cell_type": "code",
   "execution_count": null,
   "id": "feb61c34-7aff-4955-8feb-9fafb791ecd8",
   "metadata": {},
   "outputs": [],
   "source": [
    "sum = 0\n",
    "for i in range(3):\n",
    "    sum = i + sum\n",
    "    print(sum)"
   ]
  },
  {
   "cell_type": "code",
   "execution_count": 5,
   "id": "6cca2608",
   "metadata": {},
   "outputs": [
    {
     "name": "stdout",
     "output_type": "stream",
     "text": [
      "Looking in links: c:\\Users\\alepo\\AppData\\Local\\Temp\\tmpao6lf3rw\n",
      "Requirement already satisfied: setuptools in c:\\python311\\lib\\site-packages (67.3.2)\n",
      "Processing c:\\users\\alepo\\appdata\\local\\temp\\tmpao6lf3rw\\pip-22.3-py3-none-any.whl\n",
      "Installing collected packages: pip\n"
     ]
    },
    {
     "name": "stderr",
     "output_type": "stream",
     "text": [
      "WARNING: Ignoring invalid distribution ~ (C:\\Python311\\Lib\\site-packages)\n",
      "WARNING: Ignoring invalid distribution ~ (C:\\Python311\\Lib\\site-packages)\n",
      "  WARNING: Failed to write executable - trying to use .deleteme logic\n",
      "ERROR: Could not install packages due to an OSError: [WinError 5] Acceso denegado: 'C:\\\\Python311\\\\Scripts\\\\pip3.exe' -> 'C:\\\\Python311\\\\Scripts\\\\pip3.exe.deleteme'\n",
      "Consider using the `--user` option or check the permissions.\n",
      "\n",
      "Traceback (most recent call last):\n",
      "  File \"<frozen runpy>\", line 198, in _run_module_as_main\n",
      "  File \"<frozen runpy>\", line 88, in _run_code\n",
      "  File \"C:\\Python311\\Lib\\ensurepip\\__main__.py\", line 5, in <module>\n",
      "    sys.exit(ensurepip._main())\n",
      "             ^^^^^^^^^^^^^^^^^\n",
      "  File \"C:\\Python311\\Lib\\ensurepip\\__init__.py\", line 286, in _main\n",
      "    return _bootstrap(\n",
      "           ^^^^^^^^^^^\n",
      "  File \"C:\\Python311\\Lib\\ensurepip\\__init__.py\", line 202, in _bootstrap\n",
      "    return _run_pip([*args, *_PACKAGE_NAMES], additional_paths)\n",
      "           ^^^^^^^^^^^^^^^^^^^^^^^^^^^^^^^^^^^^^^^^^^^^^^^^^^^^\n",
      "  File \"C:\\Python311\\Lib\\ensurepip\\__init__.py\", line 103, in _run_pip\n",
      "    return subprocess.run(cmd, check=True).returncode\n",
      "           ^^^^^^^^^^^^^^^^^^^^^^^^^^^^^^^\n",
      "  File \"C:\\Python311\\Lib\\subprocess.py\", line 569, in run\n",
      "    raise CalledProcessError(retcode, process.args,\n",
      "subprocess.CalledProcessError: Command '['C:\\\\Python311\\\\python.exe', '-W', 'ignore::DeprecationWarning', '-c', '\\nimport runpy\\nimport sys\\nsys.path = [\\'C:\\\\\\\\Users\\\\\\\\alepo\\\\\\\\AppData\\\\\\\\Local\\\\\\\\Temp\\\\\\\\tmpao6lf3rw\\\\\\\\setuptools-65.5.0-py3-none-any.whl\\', \\'C:\\\\\\\\Users\\\\\\\\alepo\\\\\\\\AppData\\\\\\\\Local\\\\\\\\Temp\\\\\\\\tmpao6lf3rw\\\\\\\\pip-22.3-py3-none-any.whl\\'] + sys.path\\nsys.argv[1:] = [\\'install\\', \\'--no-cache-dir\\', \\'--no-index\\', \\'--find-links\\', \\'C:\\\\\\\\Users\\\\\\\\alepo\\\\\\\\AppData\\\\\\\\Local\\\\\\\\Temp\\\\\\\\tmpao6lf3rw\\', \\'--upgrade\\', \\'setuptools\\', \\'pip\\']\\nrunpy.run_module(\"pip\", run_name=\"__main__\", alter_sys=True)\\n']' returned non-zero exit status 1.\n"
     ]
    },
    {
     "name": "stdout",
     "output_type": "stream",
     "text": [
      "Requirement already satisfied: pip in c:\\python311\\lib\\site-packages (22.3)\n",
      "Collecting pip\n",
      "  Using cached pip-23.2.1-py3-none-any.whl (2.1 MB)\n",
      "Installing collected packages: pip\n",
      "  Attempting uninstall: pip\n",
      "    Found existing installation: pip 22.3\n",
      "    Uninstalling pip-22.3:\n"
     ]
    },
    {
     "name": "stderr",
     "output_type": "stream",
     "text": [
      "ERROR: Could not install packages due to an OSError: [WinError 5] Acceso denegado: 'c:\\\\python311\\\\scripts\\\\pip.exe'\n",
      "Consider using the `--user` option or check the permissions.\n",
      "\n",
      "WARNING: Ignoring invalid distribution ~ (C:\\Python311\\Lib\\site-packages)\n",
      "C:\\Python311\\python.exe: No module named pip\n",
      "C:\\Python311\\python.exe: No module named pip\n"
     ]
    }
   ],
   "source": [
    "import sys\n",
    "!{sys.executable} -m ensurepip --upgrade\n",
    "!{sys.executable} -m pip install --upgrade pip\n",
    "!{sys.executable} -m pip install numpy \n",
    "!{sys.executable} -m pip install requests\n",
    "import requests"
   ]
  },
  {
   "cell_type": "code",
   "execution_count": 7,
   "id": "c1ea6b68-f9c3-41e9-913e-213c8cc0958e",
   "metadata": {},
   "outputs": [
    {
     "data": {
      "text/plain": [
       "{'count': 1,\n",
       " 'next': None,\n",
       " 'previous': None,\n",
       " 'results': [{'url': 'http://127.0.0.1:8000/users/3/',\n",
       "   'username': 'A01656017',\n",
       "   'email': 'A01656017@tec.mx',\n",
       "   'groups': []}]}"
      ]
     },
     "execution_count": 7,
     "metadata": {},
     "output_type": "execute_result"
    }
   ],
   "source": [
    "api_url = \"http://127.0.0.1:8000/users/\"\n",
    "response = requests.get(api_url, auth=('A01656017', 'password'))\n",
    "response.json()"
   ]
  },
  {
   "cell_type": "code",
   "execution_count": null,
   "id": "37ce0798-71d0-4425-b398-451ff0c52532",
   "metadata": {},
   "outputs": [],
   "source": []
  }
 ],
 "metadata": {
  "kernelspec": {
   "display_name": "Python 3 (ipykernel)",
   "language": "python",
   "name": "python3"
  },
  "language_info": {
   "codemirror_mode": {
    "name": "ipython",
    "version": 3
   },
   "file_extension": ".py",
   "mimetype": "text/x-python",
   "name": "python",
   "nbconvert_exporter": "python",
   "pygments_lexer": "ipython3",
   "version": "3.11.0"
  }
 },
 "nbformat": 4,
 "nbformat_minor": 5
}
