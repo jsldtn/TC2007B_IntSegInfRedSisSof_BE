{
 "cells": [
  {
   "cell_type": "markdown",
   "id": "7922619a",
   "metadata": {},
   "source": [
    "# Raúl Armando Vélez Robles\n",
    "## Github: Raul-VR"
   ]
  },
  {
   "cell_type": "code",
   "execution_count": 2,
   "id": "951c9ff6",
   "metadata": {},
   "outputs": [
    {
     "name": "stdout",
     "output_type": "stream",
     "text": [
      "Hello World\n"
     ]
    }
   ],
   "source": [
    "print(\"Hello World\")"
   ]
  },
  {
   "cell_type": "code",
   "execution_count": 31,
   "id": "8722a120",
   "metadata": {},
   "outputs": [],
   "source": [
    "import sys\n",
    "import requests"
   ]
  },
  {
   "cell_type": "code",
   "execution_count": 32,
   "id": "8e626419",
   "metadata": {},
   "outputs": [
    {
     "data": {
      "text/plain": [
       "{'count': 1,\n",
       " 'next': None,\n",
       " 'previous': None,\n",
       " 'results': [{'url': 'http://127.0.0.1:8000/users/1/',\n",
       "   'username': 'A01782488',\n",
       "   'email': 'A01782488@tec.mx',\n",
       "   'groups': []}]}"
      ]
     },
     "execution_count": 32,
     "metadata": {},
     "output_type": "execute_result"
    }
   ],
   "source": [
    "api_url = \"http://127.0.0.1:8000/users\"\n",
    "response = requests.get(api_url, auth=('A01782488', 'password'))\n",
    "response.json()"
   ]
  },
  {
   "cell_type": "code",
   "execution_count": null,
   "id": "e8c6f356",
   "metadata": {},
   "outputs": [],
   "source": []
  }
 ],
 "metadata": {
  "kernelspec": {
   "display_name": "Python 3 (ipykernel)",
   "language": "python",
   "name": "python3"
  },
  "language_info": {
   "codemirror_mode": {
    "name": "ipython",
    "version": 3
   },
   "file_extension": ".py",
   "mimetype": "text/x-python",
   "name": "python",
   "nbconvert_exporter": "python",
   "pygments_lexer": "ipython3",
   "version": "3.9.13"
  }
 },
 "nbformat": 4,
 "nbformat_minor": 5
}
