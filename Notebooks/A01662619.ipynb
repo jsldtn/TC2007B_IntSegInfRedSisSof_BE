{
 "cells": [
  {
   "cell_type": "markdown",
   "id": "3c53dd3a-b987-4534-9f13-dd4cf945b0e6",
   "metadata": {},
   "source": [
    "# Luis Roberto Martinez Ramirez"
   ]
  },
  {
   "cell_type": "code",
   "execution_count": 1,
   "id": "2f3c0b05-914d-4278-a3c9-02508e355cee",
   "metadata": {},
   "outputs": [
    {
     "name": "stdout",
     "output_type": "stream",
     "text": [
      "hola mundo\n"
     ]
    }
   ],
   "source": [
    "print (\"hola mundo\")"
   ]
  },
  {
   "cell_type": "code",
   "execution_count": 1,
   "id": "ee22535f-c1de-42e3-af36-5163dccd77d8",
   "metadata": {},
   "outputs": [
    {
     "name": "stdout",
     "output_type": "stream",
     "text": [
      "Requirement already satisfied: pip in /Users/luismtz/anaconda3/envs/Maquinavirtual/lib/python3.10/site-packages (23.2.1)\n",
      "Requirement already satisfied: numpy in /Users/luismtz/anaconda3/envs/Maquinavirtual/lib/python3.10/site-packages (1.25.2)\n",
      "Requirement already satisfied: requests in /Users/luismtz/anaconda3/envs/Maquinavirtual/lib/python3.10/site-packages (2.31.0)\n",
      "Requirement already satisfied: charset-normalizer<4,>=2 in /Users/luismtz/anaconda3/envs/Maquinavirtual/lib/python3.10/site-packages (from requests) (3.2.0)\n",
      "Requirement already satisfied: idna<4,>=2.5 in /Users/luismtz/anaconda3/envs/Maquinavirtual/lib/python3.10/site-packages (from requests) (3.4)\n",
      "Requirement already satisfied: urllib3<3,>=1.21.1 in /Users/luismtz/anaconda3/envs/Maquinavirtual/lib/python3.10/site-packages (from requests) (2.0.4)\n",
      "Requirement already satisfied: certifi>=2017.4.17 in /Users/luismtz/anaconda3/envs/Maquinavirtual/lib/python3.10/site-packages (from requests) (2023.7.22)\n"
     ]
    }
   ],
   "source": [
    "import sys\n",
    "!{sys.executable} -m pip install --upgrade pip\n",
    "!{sys.executable} -m pip install numpy\n",
    "!{sys.executable} -m pip install requests\n",
    "import requests"
   ]
  },
  {
   "cell_type": "code",
   "execution_count": 2,
   "id": "c5833151",
   "metadata": {},
   "outputs": [
    {
     "data": {
      "text/plain": [
       "{'count': 2,\n",
       " 'next': None,\n",
       " 'previous': None,\n",
       " 'results': [{'url': 'http://127.0.0.1:8000/users/2/',\n",
       "   'username': 'A01662619M',\n",
       "   'email': 'A01662619@tec.mx',\n",
       "   'groups': []},\n",
       "  {'url': 'http://127.0.0.1:8000/users/1/',\n",
       "   'username': 'A01656898',\n",
       "   'email': 'A01656898@tec.mx',\n",
       "   'groups': []}]}"
      ]
     },
     "execution_count": 2,
     "metadata": {},
     "output_type": "execute_result"
    }
   ],
   "source": [
    "api_url = \"http://127.0.0.1:8000/users/\"\n",
    "response = requests.get(api_url, auth=(\"A01662619M\", \"luis\"))\n",
    "response.json()"
   ]
  },
  {
   "cell_type": "code",
   "execution_count": null,
   "id": "b0755df0",
   "metadata": {},
   "outputs": [],
   "source": []
  }
 ],
 "metadata": {
  "kernelspec": {
   "display_name": "Python 3 (ipykernel)",
   "language": "python",
   "name": "python3"
  },
  "language_info": {
   "codemirror_mode": {
    "name": "ipython",
    "version": 3
   },
   "file_extension": ".py",
   "mimetype": "text/x-python",
   "name": "python",
   "nbconvert_exporter": "python",
   "pygments_lexer": "ipython3",
   "version": "3.10.12"
  }
 },
 "nbformat": 4,
 "nbformat_minor": 5
}
