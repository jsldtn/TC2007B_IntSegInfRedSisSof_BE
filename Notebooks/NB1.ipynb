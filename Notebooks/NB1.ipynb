{
 "cells": [
  {
   "attachments": {},
   "cell_type": "markdown",
   "id": "49937adb",
   "metadata": {},
   "source": [
    "# Get the repo for the BE (Server)\n",
    "\n",
    "* [Integración de seguridad informática en redes y sistemas de software.](https://github.com/TeacherISM/TC2007B_IntSegInfRedSisSof_BE)\n",
    "    * Python(django) Back-end(Server)"
   ]
  },
  {
   "attachments": {},
   "cell_type": "markdown",
   "id": "fcbf8e71",
   "metadata": {},
   "source": [
    "# Tech-Stack\n",
    "A01424506\n",
    "* SCM\n",
    "    * [Git](https://git-scm.com/)\n",
    "    * [GitHub](https://github.com/)\n",
    "* Documentation and analisys\n",
    "    * [Markdown](https://docs.github.com/es/get-started/writing-on-github/getting-started-with-writing-and-formatting-on-github/basic-writing-and-formatting-syntax)\n",
    "* Back-end Technologies\n",
    "    * [Python (django)](https://www.djangoproject.com/)\n",
    "        * [django and OpenAPI](https://www.saaspegasus.com/guides/modern-javascript-for-django-developers/apis/)\n",
    "        * [django unit test](https://docs.djangoproject.com/en/4.2/topics/testing/overview/)\n",
    "    * [OpenAPI](https://www.openapis.org/)\n",
    "    * Dominant high-level standards \n",
    "        * [REST](https://en.wikipedia.org/wiki/Representational_state_transfer)\n",
    "        * [Graphql](https://graphql.org/)\n",
    "    * [JWT](https://openwebinars.net/blog/que-es-json-web-token-y-como-funciona/)\n",
    "* Cloud Environment (Infraestructure)\n",
    "    * [Azure Cloud Services](https://azure.microsoft.com/es-mx/products/cloud-services)"
   ]
  },
  {
   "cell_type": "code",
   "execution_count": null,
   "id": "0e51be5b",
   "metadata": {},
   "outputs": [],
   "source": []
  }
 ],
 "metadata": {
  "kernelspec": {
   "display_name": "Python 3 (ipykernel)",
   "language": "python",
   "name": "python3"
  },
  "language_info": {
   "codemirror_mode": {
    "name": "ipython",
    "version": 3
   },
   "file_extension": ".py",
   "mimetype": "text/x-python",
   "name": "python",
   "nbconvert_exporter": "python",
   "pygments_lexer": "ipython3",
   "version": "3.9.13"
  }
 },
 "nbformat": 4,
 "nbformat_minor": 5
}
