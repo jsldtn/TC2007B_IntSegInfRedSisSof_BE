{
 "cells": [
  {
   "cell_type": "markdown",
   "id": "a6d4a674",
   "metadata": {},
   "source": [
    "# Jorge Diego Martell Fernández"
   ]
  },
  {
   "cell_type": "code",
   "execution_count": 2,
   "id": "0780e992",
   "metadata": {},
   "outputs": [
    {
     "name": "stdout",
     "output_type": "stream",
     "text": [
      "¡Hola, mundo y arriba las Chivas!\n"
     ]
    }
   ],
   "source": [
    "print(\"¡Hola, mundo y arriba las Chivas!\")"
   ]
  },
  {
   "cell_type": "markdown",
   "id": "447b1cbd",
   "metadata": {},
   "source": [
    "# Test with Notebook - Clase 2"
   ]
  },
  {
   "cell_type": "code",
   "execution_count": 1,
   "id": "c70b9fa5",
   "metadata": {},
   "outputs": [
    {
     "data": {
      "text/plain": [
       "{'count': 1,\n",
       " 'next': None,\n",
       " 'previous': None,\n",
       " 'results': [{'url': 'http://127.0.0.1:8000/users/1/',\n",
       "   'username': 'A01661436',\n",
       "   'email': 'A01661436@tec.mx',\n",
       "   'groups': []}]}"
      ]
     },
     "execution_count": 1,
     "metadata": {},
     "output_type": "execute_result"
    }
   ],
   "source": [
    "import sys\n",
    "import requests\n",
    "api_url = \"http://127.0.0.1:8000/users/\"\n",
    "response = requests.get(api_url, auth=('A01661436','21a021622JD'))\n",
    "response.json()"
   ]
  },
  {
   "cell_type": "code",
   "execution_count": null,
   "id": "d9948397",
   "metadata": {},
   "outputs": [],
   "source": []
  }
 ],
 "metadata": {
  "kernelspec": {
   "display_name": "Python 3 (ipykernel)",
   "language": "python",
   "name": "python3"
  },
  "language_info": {
   "codemirror_mode": {
    "name": "ipython",
    "version": 3
   },
   "file_extension": ".py",
   "mimetype": "text/x-python",
   "name": "python",
   "nbconvert_exporter": "python",
   "pygments_lexer": "ipython3",
   "version": "3.9.13"
  }
 },
 "nbformat": 4,
 "nbformat_minor": 5
}
