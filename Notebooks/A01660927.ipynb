{
 "cells": [
  {
   "attachments": {},
   "cell_type": "markdown",
   "metadata": {},
   "source": [
    "# Moisés Adame Aguilar (A01660927) 👨🏼‍💻\n",
    "## Autenticación en Django con DjangoRestFramework"
   ]
  },
  {
   "cell_type": "markdown",
   "metadata": {},
   "source": [
    "### Set up del proyecto\n",
    "```\n",
    "# Create the project directory\n",
    "mkdir A01660927\n",
    "cd A01660927\n",
    "\n",
    "# Create a virtual environment to isolate our package dependencies locally\n",
    "python3 -m venv env\n",
    "source env/bin/activate  # On Windows use `env\\Scripts\\activate`\n",
    "\n",
    "# Install Django and Django REST framework into the virtual environment\n",
    "pip install django\n",
    "pip install djangorestframework\n",
    "\n",
    "# Set up a new project with a single application\n",
    "django-admin startproject SEL4C .  # Note the trailing '.' character\n",
    "cd SEL4C\n",
    "django-admin startapp app1\n",
    "cd ..\n",
    "```\n",
    "\n",
    "### Sincronización de Base de Datos\n",
    "```\n",
    "python3 manage.py migrate\n",
    "```\n",
    "\n",
    "### Creación de Superusuario\n",
    "```\n",
    "python3 manage.py createsuperuser --email a01660927@tec.mx --username A01660927\n",
    "```\n",
    "\n",
    "### Creación de Serializables (SEL4C/app1/serializers.py)\n",
    "```\n",
    "from django.contrib.auth.models import User, Group\n",
    "from rest_framework import serializers\n",
    "\n",
    "\n",
    "class UserSerializer(serializers.HyperlinkedModelSerializer):\n",
    "    class Meta:\n",
    "        model = User\n",
    "        fields = ['url', 'username', 'email', 'groups']\n",
    "\n",
    "\n",
    "class GroupSerializer(serializers.HyperlinkedModelSerializer):\n",
    "    class Meta:\n",
    "        model = Group\n",
    "        fields = ['url', 'name']\n",
    "```\n",
    "\n",
    "### Creación de Vistas (SEL4C/app1/views.py)\n",
    "```\n",
    "from django.contrib.auth.models import User, Group\n",
    "from rest_framework import viewsets\n",
    "from rest_framework import permissions\n",
    "from tutorial.quickstart.serializers import UserSerializer, GroupSerializer\n",
    "\n",
    "\n",
    "class UserViewSet(viewsets.ModelViewSet):\n",
    "    \"\"\"\n",
    "    API endpoint that allows users to be viewed or edited.\n",
    "    \"\"\"\n",
    "    queryset = User.objects.all().order_by('-date_joined')\n",
    "    serializer_class = UserSerializer\n",
    "    permission_classes = [permissions.IsAuthenticated]\n",
    "\n",
    "\n",
    "class GroupViewSet(viewsets.ModelViewSet):\n",
    "    \"\"\"\n",
    "    API endpoint that allows groups to be viewed or edited.\n",
    "    \"\"\"\n",
    "    queryset = Group.objects.all()\n",
    "    serializer_class = GroupSerializer\n",
    "    permission_classes = [permissions.IsAuthenticated]\n",
    "```\n",
    "\n",
    "### Creación de URLS (SEL4C/urls.py)\n",
    "```\n",
    "from django.urls import include, path\n",
    "from rest_framework import routers\n",
    "from tutorial.quickstart import views\n",
    "\n",
    "router = routers.DefaultRouter()\n",
    "router.register(r'users', views.UserViewSet)\n",
    "router.register(r'groups', views.GroupViewSet)\n",
    "\n",
    "# Wire up our API using automatic URL routing.\n",
    "# Additionally, we include login URLs for the browsable API.\n",
    "urlpatterns = [\n",
    "    path('', include(router.urls)),\n",
    "    path('api-auth/', include('rest_framework.urls', namespace='rest_framework'))\n",
    "]\n",
    "```\n",
    "\n",
    "### Configuración de settings (SEL4C/settings.py)\n",
    "Primero la paginación:\n",
    "```\n",
    "REST_FRAMEWORK = {\n",
    "    'DEFAULT_PAGINATION_CLASS': 'rest_framework.pagination.PageNumberPagination',\n",
    "    'PAGE_SIZE': 10\n",
    "}\n",
    "```\n",
    "Después, se intala la app deseada, en este caso DjangoRestFramework\n",
    "```\n",
    "INSTALLED_APPS = [\n",
    "    ...\n",
    "    'rest_framework',\n",
    "]\n",
    "```\n",
    "\n",
    "### Correr el Proyecto\n",
    "```\n",
    "python3 manage.py runserver\n",
    "```"
   ]
  },
  {
   "cell_type": "markdown",
   "metadata": {},
   "source": [
    "## Testeo de Proyecto"
   ]
  },
  {
   "cell_type": "code",
   "execution_count": 1,
   "metadata": {},
   "outputs": [
    {
     "name": "stdout",
     "output_type": "stream",
     "text": [
      "Defaulting to user installation because normal site-packages is not writeable\n",
      "Requirement already satisfied: pip in /Applications/Xcode.app/Contents/Developer/Library/Frameworks/Python3.framework/Versions/3.9/lib/python3.9/site-packages (21.2.4)\n",
      "Collecting pip\n",
      "  Downloading pip-23.2.1-py3-none-any.whl (2.1 MB)\n",
      "\u001b[K     |████████████████████████████████| 2.1 MB 934 kB/s eta 0:00:01\n",
      "\u001b[?25hInstalling collected packages: pip\n",
      "Successfully installed pip-23.2.1\n",
      "\u001b[33mWARNING: You are using pip version 21.2.4; however, version 23.2.1 is available.\n",
      "You should consider upgrading via the '/Applications/Xcode.app/Contents/Developer/usr/bin/python3 -m pip install --upgrade pip' command.\u001b[0m\n",
      "Defaulting to user installation because normal site-packages is not writeable\n",
      "Requirement already satisfied: numpy in /Users/moymac/Library/Python/3.9/lib/python/site-packages (1.25.2)\n",
      "Defaulting to user installation because normal site-packages is not writeable\n",
      "Requirement already satisfied: requests in /Users/moymac/Library/Python/3.9/lib/python/site-packages (2.31.0)\n",
      "Requirement already satisfied: charset-normalizer<4,>=2 in /Users/moymac/Library/Python/3.9/lib/python/site-packages (from requests) (2.1.1)\n",
      "Requirement already satisfied: idna<4,>=2.5 in /Users/moymac/Library/Python/3.9/lib/python/site-packages (from requests) (3.4)\n",
      "Requirement already satisfied: urllib3<3,>=1.21.1 in /Users/moymac/Library/Python/3.9/lib/python/site-packages (from requests) (1.26.12)\n",
      "Requirement already satisfied: certifi>=2017.4.17 in /Users/moymac/Library/Python/3.9/lib/python/site-packages (from requests) (2022.9.24)\n"
     ]
    }
   ],
   "source": [
    "import sys\n",
    "!{sys.executable} -m pip install --upgrade pip\n",
    "!{sys.executable} -m pip install numpy\n",
    "!{sys.executable} -m pip install requests\n",
    "import requests"
   ]
  },
  {
   "cell_type": "code",
   "execution_count": 2,
   "metadata": {},
   "outputs": [
    {
     "data": {
      "text/plain": [
       "{'count': 1,\n",
       " 'next': None,\n",
       " 'previous': None,\n",
       " 'results': [{'url': 'http://127.0.0.1:8000/users/1/',\n",
       "   'username': 'A01660927',\n",
       "   'email': 'a01660927@tec.mx',\n",
       "   'groups': []}]}"
      ]
     },
     "execution_count": 2,
     "metadata": {},
     "output_type": "execute_result"
    }
   ],
   "source": [
    "api_url = \"http://127.0.0.1:8000/users/\"\n",
    "response = requests.get(api_url, auth=('A01660927', '*******'))\n",
    "response.json()"
   ]
  }
 ],
 "metadata": {
  "kernelspec": {
   "display_name": "Python 3",
   "language": "python",
   "name": "python3"
  },
  "language_info": {
   "codemirror_mode": {
    "name": "ipython",
    "version": 3
   },
   "file_extension": ".py",
   "mimetype": "text/x-python",
   "name": "python",
   "nbconvert_exporter": "python",
   "pygments_lexer": "ipython3",
   "version": "3.9.6"
  },
  "orig_nbformat": 4
 },
 "nbformat": 4,
 "nbformat_minor": 2
}
